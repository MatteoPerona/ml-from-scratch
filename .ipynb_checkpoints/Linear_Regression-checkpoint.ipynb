{
 "cells": [
  {
   "cell_type": "code",
   "execution_count": 1,
   "metadata": {},
   "outputs": [],
   "source": [
    "import numpy as np\n",
    "import pandas as pd"
   ]
  },
  {
   "cell_type": "markdown",
   "metadata": {},
   "source": [
    "Linear regression generally have the form of $Y_{i} = \\theta_{0} + \\theta_{1} x_{1} + \\theta_{2} x_{2} + ...$ <br>\n",
    "There are several ways to find the coefficients of the regression: <br>\n",
    "1. Linear Algebra: $\\hat{\\theta} = (X^{T}X)^{-1}X^{T}Y$ (When X is invertible) <br>\n",
    "2. Gradient Descent: In this case, we need to write out the loss function and try to minimize the loss. <br>\n",
    "$\\hspace{30mm}$ $F(x)$ = Loss Function = SE = $ \\sum^{n}_{i=1} (Y_{i} - \\hat{Y_{i}})^{2}$ <br>"
   ]
  },
  {
   "cell_type": "code",
   "execution_count": 2,
   "metadata": {},
   "outputs": [],
   "source": [
    "class Linear_Regression():\n",
    "    def __init__(self, alpha = 1e-10 , num_iter = 10000, early_stop = 1e-50, intercept = True, init_weight = None):\n",
    "        \n",
    "        \n",
    "        \"\"\"\n",
    "            Some initializations, if neccesary\n",
    "            \n",
    "            attributes: \n",
    "                        alpha: Learning Rate, default 1e-10\n",
    "                        num_iter: Number of Iterations to update coefficient with training data\n",
    "                        early_stop: Constant control early_stop.\n",
    "                        intercept: Bool, If we are going to fit a intercept, default True.\n",
    "                        init_weight: Matrix (n x 1), input init_weight for testing.\n",
    "                        \n",
    "            \n",
    "            TODO: 1. Initialize all variables needed.\n",
    "        \"\"\"\n",
    "        \n",
    "        self.model_name = 'Linear Regression'\n",
    "        \n",
    "        self.alpha = alpha\n",
    "        self.num_iter = num_iter\n",
    "        self.early_stop = early_stop\n",
    "        self.intercept = intercept\n",
    "        self.init_weight = init_weight  ### For testing correctness.\n",
    "        \n",
    "    def fit(self, X_train, y_train):\n",
    "        \"\"\"\n",
    "            Save the datasets in our model, and perform gradient descent.\n",
    "            \n",
    "            Parameter:\n",
    "                X_train: Matrix or 2-D array. Input feature matrix.\n",
    "                Y_train: Matrix or 2-D array. Input target value.\n",
    "                \n",
    "                \n",
    "                TODO: 2. If we are going to fit the intercept, add a col with \n",
    "                         all 1's to the first column. (hint: np.hstack, np.ones)\n",
    "                      3. Initilaize our coef with uniform from [-1, 1] with the \n",
    "                         number of col in training set.\n",
    "                      4. Call the gradient_descent function to train.\n",
    "        \"\"\"\n",
    "        self.X = self.min_max_normaliz(np.array(X_train))\n",
    "        self.y = np.array(y_train).T\n",
    "        \n",
    "        if self.intercept:\n",
    "            ones = np.ones((self.X.shape[0], 1))\n",
    "            self.X = np.hstack((ones, self.X))\n",
    "        \n",
    "        if self.init_weight is None:\n",
    "            self.coef = np.random.uniform(-1, 1, self.X.shape[1])\n",
    "        else:\n",
    "            self.coef = self.init_weight #### Please change this after you get the example right.\n",
    "        \n",
    "        self.gradient_descent()\n",
    "        \n",
    "    def gradient(self):\n",
    "        \"\"\"\n",
    "            Helper function to calculate the gradient respect to coefficient.\n",
    "            \n",
    "            TODO: 5. Think about the matrix format of the gradient of the loss \n",
    "                     function.\n",
    "        \"\"\"\n",
    "        #print(\"X : \", self.X)\n",
    "        #print(\"y : \", self.y)\n",
    "        #print(\"w : \", self.coef)\n",
    "        #print(f'product: {(self.X @ self.coef)}')\n",
    "\n",
    "        self.grad_coef = (-2/self.X.shape[0]) * self.X.T @ (self.y - self.X @ self.coef)\n",
    "\n",
    "    def calculate_loss(self, w):\n",
    "        \"\"\"\n",
    "        Calculates the loss for the given weight vector, w\n",
    "        \"\"\"\n",
    "        return (\n",
    "            np.sum(\n",
    "                np.square(self.y - self.X @ w)\n",
    "            )\n",
    "            / \n",
    "            self.X.shape[0]\n",
    "        )\n",
    "    \n",
    "    def min_max_normaliz(self, lst):\n",
    "        \"\"\"\n",
    "        Helper function for normalize for faster training.\n",
    "        \"\"\"\n",
    "        maximum = np.max(lst)\n",
    "        minimum = np.min(lst)\n",
    "\n",
    "        return (lst - minimum) / (maximum - minimum)\n",
    "        \n",
    "    def gradient_descent(self):\n",
    "        \n",
    "        \"\"\"\n",
    "            Training function\n",
    "            \n",
    "            TODO: 6. Calculate the loss with current coefficients.\n",
    "                  7. Update the temp_coef with learning rate and gradient.\n",
    "                  8. Calculate the loss with temp_coef.\n",
    "                  \n",
    "                  9. Implement the self adeptive learning rate. \n",
    "                      a. If current error is less than previous error, increase \n",
    "                         learning rate by a factor 1.3. \n",
    "                         And update coef, with temp_coef.\n",
    "                      b. If previous error is less than current error, decrease \n",
    "                         learning rate by a factor of 0.9.\n",
    "                         Don't update coef.\n",
    "                  10. Add the loss to loss list we create.\n",
    "        \"\"\"\n",
    "        self.loss = [ self.calculate_loss(self.coef) ]\n",
    "        \n",
    "        for i in range(self.num_iter):\n",
    " \n",
    "            self.gradient()\n",
    "\n",
    "            previous_y_hat = self.X @ self.coef\n",
    "            \n",
    "            temp_coef = self.coef - self.alpha * self.grad_coef\n",
    "            \n",
    "            ones = 0  # Matrix with 1's (1 x n), help with calculate the sum of a mattrix. hint: Think about dot product.\n",
    "            \n",
    "            pre_error = self.loss[-1]\n",
    "            \n",
    "            # current_error = sum((self.y - self.X @ temp_coef)**2)\n",
    "            current_error = self.calculate_loss(temp_coef)\n",
    "            \n",
    "            ### This is the early stop, don't modify fllowing three lines.\n",
    "            if (abs(pre_error - current_error) < self.early_stop) | (abs(abs(pre_error - current_error) / pre_error) < self.early_stop):\n",
    "                self.coef = temp_coef\n",
    "                return self\n",
    "            \n",
    "            if current_error <= pre_error:\n",
    "                self.alpha *= 1.3\n",
    "            else:\n",
    "                self.alpha *= 0.9\n",
    "                \n",
    "            self.loss.append(current_error)\n",
    "            self.coef = temp_coef\n",
    "            \n",
    "            if i % 10000 == 0:\n",
    "                print('\\nIteration: ' +  str(i))\n",
    "                print('\\nCoef: '+ str(self.coef))\n",
    "                print('\\nGradient: '+ str(self.grad_coef))\n",
    "                print('\\nLoss: ' + str(current_error))            \n",
    "        return self\n",
    "    \n",
    "    def ind_predict(self, x: list):\n",
    "        \"\"\"\n",
    "            Predict the value based on its feature vector x.\n",
    "\n",
    "            Parameter:\n",
    "            x: Matrix, array or list. Input feature point.\n",
    "            \n",
    "            Return:\n",
    "                result: prediction of given data point\n",
    "        \"\"\"\n",
    "        \n",
    "        \"\"\"\n",
    "            TODO: 11. Implement the prediction function\n",
    "        \"\"\"\n",
    "        result = x @ self.coef\n",
    "\n",
    "        return result\n",
    "    \n",
    "    def predict(self, X):\n",
    "        \"\"\"\n",
    "            X is a matrix or 2-D numpy array, represnting testing instances. \n",
    "            Each testing instance is a feature vector. \n",
    "            \n",
    "            Parameter:\n",
    "            X: Matrix, array or list. Input feature point.\n",
    "            \n",
    "            Return:\n",
    "                ret: prediction of given data matrix\n",
    "        \"\"\"\n",
    "        \n",
    "        \"\"\"\n",
    "            TODO: 12. Make sure add the 1's column like we did to add intercept.\n",
    "                  13. Revise the following for-loop to call ind_predict to get \n",
    "                      predictions.\n",
    "\n",
    "        \"\"\"\n",
    "        \n",
    "        ret = []\n",
    "        X = np.mat(X)\n",
    "        if self.intercept:\n",
    "            ones = np.ones((X.shape[0], 1))\n",
    "            X = np.hstack((ones, X))\n",
    "        for x in X:\n",
    "            ret.append(self.ind_predict(x))\n",
    "        return ret\n",
    "        \n",
    "        \n"
   ]
  },
  {
   "cell_type": "code",
   "execution_count": 4,
   "metadata": {},
   "outputs": [],
   "source": [
    "def min_max_normaliz(lst):\n",
    "    \"\"\"\n",
    "    Helper function for normalize for faster training.\n",
    "    \"\"\"\n",
    "    maximum = np.max(lst)\n",
    "    minimum = np.min(lst)\n",
    "\n",
    "    return (lst - minimum) / (maximum - minimum)"
   ]
  },
  {
   "cell_type": "markdown",
   "metadata": {},
   "source": [
    "### We generate some easy data for testing. We should fit a line with, $Y = 30 * X + 20$"
   ]
  },
  {
   "cell_type": "code",
   "execution_count": 5,
   "metadata": {},
   "outputs": [],
   "source": [
    "X = np.array(np.mat(np.arange(1, 1000, 5)).T)\n",
    "y = np.array((30 * X)).flatten() +  20"
   ]
  },
  {
   "cell_type": "code",
   "execution_count": 6,
   "metadata": {},
   "outputs": [],
   "source": [
    "def calculate_loss(y, X, w):\n",
    "    \"\"\"\n",
    "    Calculates the loss for the given weight vector, w\n",
    "    \"\"\"\n",
    "    return (\n",
    "        np.sum(\n",
    "            np.square(y - X @ w)\n",
    "        )\n",
    "        / \n",
    "        X.shape[0]\n",
    "    )"
   ]
  },
  {
   "cell_type": "code",
   "execution_count": 7,
   "metadata": {},
   "outputs": [
    {
     "name": "stdout",
     "output_type": "stream",
     "text": [
      "gradient: [10000.9621292   1658.93032799]\n",
      "w: [13975.28927832  9834.29811392]\n",
      "gradient: [ 404.21736984 -754.76081705]\n",
      "w: [ 3053.73218514 24241.38560729]\n",
      "gradient: [ 106.18788751 -198.27563761]\n",
      "w: [  839.08032952 28376.61721474]\n",
      "gradient: [ 27.89555397 -52.08700238]\n",
      "w: [  257.29137222 29462.94239898]\n",
      "gradient: [  7.32816095 -13.68325352]\n",
      "w: [  104.45543551 29748.3199831 ]\n"
     ]
    },
    {
     "data": {
      "image/png": "[encoded data removed]",
      "text/plain": [
       "<Figure size 640x480 with 1 Axes>"
      ]
     },
     "metadata": {},
     "output_type": "display_data"
    }
   ],
   "source": [
    "X_normalized = min_max_normaliz(X)\n",
    "ones = np.ones((X_normalized.shape[0], 1))\n",
    "X_ones = np.hstack((ones, X_normalized))\n",
    "coef = np.array([np.random.uniform(-1, 1) for _ in range(X_ones.shape[1])])\n",
    "\n",
    "# -2 * X_ones.T @ (y - X_ones @ coef)\n",
    "coef = (1/X_ones.shape[0]) * X_ones.T @ (y - X_ones @ coef)\n",
    "lr = 0.1\n",
    "\n",
    "sum((y - X_ones @ coef)**2)\n",
    "# losses = [ np.sum((y- X_ones @ coef)**2) ]\n",
    "losses = [ calculate_loss(y, X_ones, coef) ]\n",
    "for i in range(500):\n",
    "    gradient = (-2/X_ones.shape[0]) * X_ones.T @ (y - X_ones @ coef)\n",
    "    coef = coef - lr * gradient\n",
    "    if i % 100 == 0:\n",
    "        print(f'gradient: {gradient}')\n",
    "        print(f'w: {coef}')\n",
    "\n",
    "    # losses.append(sum((y-X_ones @ coef)**2))\n",
    "    losses.append(calculate_loss(y, X_ones, coef))\n",
    "import matplotlib.pyplot as plt\n",
    "\n",
    "plt.plot(losses)\n",
    "plt.title('Loss over iterations')\n",
    "plt.xlabel('Iterations')\n",
    "plt.ylabel('Loss')\n",
    "plt.show()\n"
   ]
  },
  {
   "cell_type": "markdown",
   "metadata": {},
   "source": [
    "#### Do NOT modify the following line, just run it when you are done.  You can also try different initialization, you will notice different coef at the end."
   ]
  },
  {
   "cell_type": "code",
   "execution_count": 10,
   "metadata": {
    "scrolled": false
   },
   "outputs": [
    {
     "name": "stdout",
     "output_type": "stream",
     "text": [
      "\n",
      "Iteration: 0\n",
      "\n",
      "Coef: [29910.         19993.29145729]\n",
      "\n",
      "Gradient: [-29895.         -19968.29145729]\n",
      "\n",
      "Loss: 629764553.1114784\n"
     ]
    }
   ],
   "source": [
    "clf = Linear_Regression(alpha = 1, num_iter = 1000, init_weight= np.array([15,25]))\n",
    "clf.fit(X,y)"
   ]
  },
  {
   "cell_type": "markdown",
   "metadata": {},
   "source": [
    "####  As the number of iteration increase, you should notice the coeficient converges to [20, 30]. \n",
    "#### It maybe very slow update. Feel free to stop."
   ]
  },
  {
   "cell_type": "code",
   "execution_count": 13,
   "metadata": {},
   "outputs": [
    {
     "data": {
      "text/plain": [
       "array([-3.19690690e+65, -1.71212558e+65])"
      ]
     },
     "execution_count": 13,
     "metadata": {},
     "output_type": "execute_result"
    }
   ],
   "source": [
    "clf.coef"
   ]
  },
  {
   "cell_type": "code",
   "execution_count": null,
   "metadata": {},
   "outputs": [],
   "source": []
  },
  {
   "cell_type": "markdown",
   "metadata": {},
   "source": [
    "#### Please try to normalize the X and fit again with normalized X. You should find something interesting. Also think about what you should do for predicting."
   ]
  },
  {
   "cell_type": "code",
   "execution_count": null,
   "metadata": {},
   "outputs": [],
   "source": []
  },
  {
   "cell_type": "markdown",
   "metadata": {},
   "source": [
    "##### You can also try this with the wine dataset we use in HW1. Try fit this function to that dataset with same features. If you look closely to the updates of coefficients. What do you find? This could be mentioned in your report. "
   ]
  },
  {
   "cell_type": "code",
   "execution_count": 14,
   "metadata": {},
   "outputs": [],
   "source": [
    "from sklearn.linear_model import LinearRegression"
   ]
  },
  {
   "cell_type": "code",
   "execution_count": 15,
   "metadata": {},
   "outputs": [],
   "source": [
    "url_Wine = 'https://archive.ics.uci.edu/ml/machine-learning-databases/wine-quality/winequality-red.csv'\n",
    "wine = pd.read_csv(url_Wine, delimiter=';')\n",
    "X = wine[['density','alcohol']]\n",
    "y = wine.quality"
   ]
  },
  {
   "cell_type": "code",
   "execution_count": 16,
   "metadata": {},
   "outputs": [
    {
     "data": {
      "text/plain": [
       "800.6676988774323"
      ]
     },
     "execution_count": 16,
     "metadata": {},
     "output_type": "execute_result"
    }
   ],
   "source": [
    "lr = LinearRegression()\n",
    "lr.fit(X,y)\n",
    "## Squared Error with sklearn.\n",
    "sum((lr.predict(X) - y)**2)"
   ]
  },
  {
   "cell_type": "code",
   "execution_count": null,
   "metadata": {},
   "outputs": [],
   "source": []
  },
  {
   "cell_type": "code",
   "execution_count": null,
   "metadata": {},
   "outputs": [],
   "source": []
  },
  {
   "cell_type": "code",
   "execution_count": null,
   "metadata": {},
   "outputs": [],
   "source": []
  },
  {
   "cell_type": "code",
   "execution_count": null,
   "metadata": {},
   "outputs": [],
   "source": []
  }
 ],
 "metadata": {
  "kernelspec": {
   "display_name": "Python 3 (ipykernel)",
   "language": "python",
   "name": "python3"
  },
  "language_info": {
   "codemirror_mode": {
    "name": "ipython",
    "version": 3
   },
   "file_extension": ".py",
   "mimetype": "text/x-python",
   "name": "python",
   "nbconvert_exporter": "python",
   "pygments_lexer": "ipython3",
   "version": "3.9.13"
  }
 },
 "nbformat": 4,
 "nbformat_minor": 4
}
